{
 "cells": [
  {
   "cell_type": "code",
   "execution_count": 2,
   "metadata": {},
   "outputs": [],
   "source": [
    "import os\n",
    "import pickle\n",
    "\n",
    "path_to_datasets = \"/home/meow/scripts/hmi/maximal_correlation_weighting/datasets/cifar-100-python\"\n",
    "path_to_store = \"/home/meow/scripts/hmi/datasets\"\n",
    "dataset_path=\"/home/meow/scripts/hmi/datasets/cifar-100-python\"\n",
    "if not os.path.exists(path_to_store):\n",
    "  os.mkdir(path_to_store)\n",
    "  os.mkdir(path_to_store+\"/cifar-100-python/\")\n",
    "\n",
    "for filename in os.listdir(path_to_datasets):\n",
    "    if filename.endswith(\".p\"):\n",
    "        with open(os.path.join(path_to_datasets, filename), \"rb\") as f:\n",
    "            data = pickle.load(f, encoding='bytes')\n",
    "            with open(os.path.join(dataset_path, filename), \"wb\") as out_f:\n",
    "                pickle.dump(data, out_f)\n"
   ]
  },
  {
   "cell_type": "code",
   "execution_count": 2,
   "metadata": {},
   "outputs": [
    {
     "data": {
      "image/png": "[encoded data removed]",
      "text/plain": [
       "<Figure size 432x288 with 1 Axes>"
      ]
     },
     "metadata": {
      "needs_background": "light"
     },
     "output_type": "display_data"
    }
   ],
   "source": [
    "import matplotlib.pyplot as plt\n",
    "import numpy as np\n",
    "L1 = [0.01669963449239731, 0.012866921722888947, 0.017029959708452225, 0.01989831030368805, 0.01808636635541916, 0.013957108370959759, 0.016024764627218246, 0.013481841422617435, 0.017469147220253944, 0.016366083174943924]\n",
    "L2 = [0.0181303471326828, 0.015631437301635742, 0.020631184801459312, 0.018841102719306946, 0.011690248735249043, 0.0197617094963789, 0.020228186622262, 0.015471586026251316, 0.015977095812559128, 0.01611137017607689]\n",
    "L3 = [0.01808777265250683, 0.021261870861053467, 0.023839835077524185, 0.017401769757270813, 0.010946323163807392, 0.017314305528998375, 0.016703806817531586, 0.02903098799288273, 0.020107058808207512, 0.01544492319226265]\n",
    "# Calculate L4\n",
    "L4 = [sum(x)/len(x)*100 for x in zip(L1, L2, L3)]\n",
    "\n",
    "# Calculate std-dev of L4\n",
    "std_dev_L4 = [np.std([x[i] for x in [L1, L2, L3]])*100 for i in range(len(L4))]\n",
    "\n",
    "# Plot L4 with error bars\n",
    "plt.errorbar(x=range(len(L4)), y=L4, yerr=std_dev_L4,fmt='o', capsize=6)\n",
    "plt.xticks(range(len(L4)), range(1, len(L4)+1))\n",
    "plt.xlabel(\"Target tasks\")\n",
    "plt.ylabel(\"Average maximized Correlation (%)\")\n",
    "plt.show()\n"
   ]
  },
  {
   "cell_type": "code",
   "execution_count": null,
   "metadata": {},
   "outputs": [],
   "source": []
  }
 ],
 "metadata": {
  "kernelspec": {
   "display_name": "base",
   "language": "python",
   "name": "python3"
  },
  "language_info": {
   "codemirror_mode": {
    "name": "ipython",
    "version": 3
   },
   "file_extension": ".py",
   "mimetype": "text/x-python",
   "name": "python",
   "nbconvert_exporter": "python",
   "pygments_lexer": "ipython3",
   "version": "3.9.5"
  },
  "orig_nbformat": 4,
  "vscode": {
   "interpreter": {
    "hash": "0074565ffd85175a08d875c16667c0870b85418a005c932794cc22900bbaad4d"
   }
  }
 },
 "nbformat": 4,
 "nbformat_minor": 2
}
